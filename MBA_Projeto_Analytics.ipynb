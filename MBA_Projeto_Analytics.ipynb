{
  "nbformat": 4,
  "nbformat_minor": 0,
  "metadata": {
    "colab": {
      "provenance": [],
      "mount_file_id": "11bpHuAt_mekAVocyBTBEeNIx0bPH8Mkl",
      "authorship_tag": "ABX9TyPYJ7wDCSJihdNH3pOBM1f1",
      "include_colab_link": true
    },
    "kernelspec": {
      "name": "python3",
      "display_name": "Python 3"
    },
    "language_info": {
      "name": "python"
    }
  },
  "cells": [
    {
      "cell_type": "markdown",
      "metadata": {
        "id": "view-in-github",
        "colab_type": "text"
      },
      "source": [
        "<a href=\"https://colab.research.google.com/github/JordanOliveiraDS/Projeto_Data_Analytics/blob/main/MBA_Projeto_Analytics.ipynb\" target=\"_parent\"><img src=\"https://colab.research.google.com/assets/colab-badge.svg\" alt=\"Open In Colab\"/></a>"
      ]
    },
    {
      "cell_type": "code",
      "source": [
        "pip install powerbiclient"
      ],
      "metadata": {
        "id": "TBTlj71DIs9X"
      },
      "execution_count": null,
      "outputs": []
    },
    {
      "cell_type": "code",
      "execution_count": null,
      "metadata": {
        "id": "LIuhXGmyVeSF"
      },
      "outputs": [],
      "source": [
        "# Carregando as bibliotecas\n",
        "\n",
        "import pandas as pd\n",
        "import matplotlib.pyplot as plt\n",
        "import seaborn as sns\n"
      ]
    },
    {
      "cell_type": "code",
      "source": [
        "# Exibir todas as colunas da base\n",
        "\n",
        "pd.set_option ('display.max_columns', None)\n",
        "pd.set_option ('display.max_rows', None)"
      ],
      "metadata": {
        "id": "Pl8Uv1lsWHRJ"
      },
      "execution_count": null,
      "outputs": []
    },
    {
      "cell_type": "code",
      "source": [
        "# Carregando o conjunto de dados\n",
        "\n",
        "arquivo = pd.read_excel('/content/drive/MyDrive/Projeto_Analytics/Base_Dados.xlsx')"
      ],
      "metadata": {
        "id": "B1Sy7d5pXa-n"
      },
      "execution_count": null,
      "outputs": []
    },
    {
      "cell_type": "code",
      "source": [
        "# Verificando a quantidade de Linhas e Colunas\n",
        "\n",
        "arquivo.shape"
      ],
      "metadata": {
        "id": "omRJen56xfwF"
      },
      "execution_count": null,
      "outputs": []
    },
    {
      "cell_type": "code",
      "source": [
        "# Verificando as linhas iniciais da base\n",
        "\n",
        "arquivo.head()"
      ],
      "metadata": {
        "id": "DQoGlOgwykB2"
      },
      "execution_count": null,
      "outputs": []
    },
    {
      "cell_type": "code",
      "source": [
        "# Verificando as linhas finais da base\n",
        "\n",
        "arquivo.tail()"
      ],
      "metadata": {
        "id": "7kPeZ3IVzjPo"
      },
      "execution_count": null,
      "outputs": []
    },
    {
      "cell_type": "code",
      "source": [
        "# Avaliando o período dos dados coletados\n",
        "\n",
        "inicio = pd.to_datetime(arquivo['DATA_AQUISICAO']).dt.date.min()\n",
        "fim = pd.to_datetime(arquivo['DATA_AQUISICAO']).dt.date.max()\n",
        "print('Período dos dados - De:', inicio, 'Até',fim)"
      ],
      "metadata": {
        "id": "TaDuAb1RzsRd"
      },
      "execution_count": null,
      "outputs": []
    },
    {
      "cell_type": "code",
      "source": [
        "# Verificando informações sobre os dados (Tipos de Varíaveis, Quantidade de registros e etc..)\n",
        "\n",
        "arquivo.info()"
      ],
      "metadata": {
        "id": "ziF3hIJQ0KYR"
      },
      "execution_count": null,
      "outputs": []
    },
    {
      "cell_type": "code",
      "source": [
        "# Verificando se alguma varíavel possuí valor nulo\n",
        "\n",
        "arquivo.isnull().sum()"
      ],
      "metadata": {
        "id": "vt4UtzFT1gcx"
      },
      "execution_count": null,
      "outputs": []
    },
    {
      "cell_type": "code",
      "source": [
        "# Filtrando os dados nulos do campo IDADE_CLIENTE\n",
        "\n",
        "arquivo[arquivo['IDADE_CLIENTE'].isnull()]"
      ],
      "metadata": {
        "id": "GVbw9DFJ107_"
      },
      "execution_count": null,
      "outputs": []
    },
    {
      "cell_type": "code",
      "source": [
        "# Verificando a média de uma determinada variável\n",
        "\n",
        "arquivo['DIAS_ATIVO'].mean()"
      ],
      "metadata": {
        "id": "Z6IFPfbh4Nz7"
      },
      "execution_count": null,
      "outputs": []
    },
    {
      "cell_type": "code",
      "source": [
        " # Verificando a mediana de uma determinada variável\n",
        "\n",
        "arquivo['DIAS_ATIVO'].median()"
      ],
      "metadata": {
        "id": "aY-v08un46H4"
      },
      "execution_count": null,
      "outputs": []
    },
    {
      "cell_type": "code",
      "source": [
        "# Desvio Padrão\n",
        "\n",
        "arquivo['DIAS_ATIVO'].std()"
      ],
      "metadata": {
        "id": "El7NoF-N5NBq"
      },
      "execution_count": null,
      "outputs": []
    },
    {
      "cell_type": "code",
      "source": [
        "# Comando utilizado para fazer uma análise rápida com medidas estatisticas(Média, Mediana, Desvio Padrão, etc)\n",
        "\n",
        "arquivo.describe()"
      ],
      "metadata": {
        "id": "9UUgAvUh5e12"
      },
      "execution_count": null,
      "outputs": []
    },
    {
      "cell_type": "code",
      "source": [
        "# Verificando somente o nome das colunas\n",
        "\n",
        "arquivo.columns"
      ],
      "metadata": {
        "id": "ZaQiY4q06UK9"
      },
      "execution_count": null,
      "outputs": []
    },
    {
      "cell_type": "code",
      "source": [
        "# Calculando os calores únicos de cada variável\n",
        "\n",
        "valores_unicos = []\n",
        "for i in arquivo.columns[0:14].to_list():\n",
        "  print(i,':', len(arquivo[i].astype(str).value_counts()))"
      ],
      "metadata": {
        "id": "_M2hk2zu64n7"
      },
      "execution_count": null,
      "outputs": []
    },
    {
      "cell_type": "markdown",
      "source": [
        "Respondendo algumas perguntas do negócio"
      ],
      "metadata": {
        "id": "GtRzsnCD72DG"
      }
    },
    {
      "cell_type": "code",
      "source": [
        "# Pergunta 1 - Qual a quantidade de clientes que possuem fianciamento de cada produto?\n",
        "\n",
        "arquivo.groupby(['PRODUTO']).size()"
      ],
      "metadata": {
        "id": "CnkNDD1v7-fL"
      },
      "execution_count": null,
      "outputs": []
    },
    {
      "cell_type": "code",
      "source": [
        "# Pergunta 2 - Qual o menor valor financiado?\n",
        "\n",
        "arquivo['VALOR_TABELA'].min()"
      ],
      "metadata": {
        "id": "AiYyqzrM8odP"
      },
      "execution_count": null,
      "outputs": []
    },
    {
      "cell_type": "code",
      "source": [
        "# Pergunta 3 - Qual o maior valor financiado?\n",
        "\n",
        "arquivo['VALOR_TABELA'].max()"
      ],
      "metadata": {
        "id": "Kfd27a5r9i6v"
      },
      "execution_count": null,
      "outputs": []
    },
    {
      "cell_type": "code",
      "source": [
        "# Pergunta 4 - Qual o cliente que possui a menor idade?\n",
        "\n",
        "arquivo['IDADE_CLIENTE'].min()"
      ],
      "metadata": {
        "id": "h0ILMweY-I6h"
      },
      "execution_count": null,
      "outputs": []
    },
    {
      "cell_type": "code",
      "source": [
        "# Pergunta 4 - Qual o cliente que possui a maior idade?\n",
        "\n",
        "arquivo['IDADE_CLIENTE'].max()"
      ],
      "metadata": {
        "id": "heVPYtUz-dn7"
      },
      "execution_count": null,
      "outputs": []
    },
    {
      "cell_type": "markdown",
      "source": [
        "Análise Gráfica dos dados"
      ],
      "metadata": {
        "id": "8U0O-K0rT7Ww"
      }
    },
    {
      "cell_type": "code",
      "source": [
        "# Exibição de um gráfico de BoxPlot\n",
        "\n",
        "sns.boxenplot(data = arquivo, y = \"DIAS_ATIVO\")\n",
        "plt.show()"
      ],
      "metadata": {
        "id": "_3ygsXSe_WKB"
      },
      "execution_count": null,
      "outputs": []
    },
    {
      "cell_type": "code",
      "source": [
        "# Exibição de um gráfico histograma\n",
        "\n",
        "sns.histplot(data = arquivo, x = \"DIAS_ATIVO\")\n",
        "plt.show()"
      ],
      "metadata": {
        "id": "fGrLZYaGABL8"
      },
      "execution_count": null,
      "outputs": []
    },
    {
      "cell_type": "code",
      "source": [
        "# Avaliando quantidade de financiamento  X Prazo\n",
        "\n",
        "sns.countplot(data = arquivo, x = \"PRAZO_FINANCIAMENTO\")\n",
        "plt.show()"
      ],
      "metadata": {
        "id": "aOR3PJPBAR_H"
      },
      "execution_count": null,
      "outputs": []
    },
    {
      "cell_type": "code",
      "source": [
        "# Avaliando quantidade de financiamento X Valor de Tabela\n",
        "\n",
        "sns.countplot(data = arquivo, x = \"VALOR_TABELA\")\n",
        "plt.show()"
      ],
      "metadata": {
        "id": "2UDIxuwKAnCz"
      },
      "execution_count": null,
      "outputs": []
    }
  ]
}